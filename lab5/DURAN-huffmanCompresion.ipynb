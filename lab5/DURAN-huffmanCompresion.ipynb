{
  "cells": [
    {
      "cell_type": "code",
      "execution_count": 26,
      "metadata": {
        "colab": {
          "base_uri": "https://localhost:8080/"
        },
        "id": "q6_O0d58srf3",
        "outputId": "f7a7ed5d-d9f4-451b-de10-7960d472c848"
      },
      "outputs": [
        {
          "name": "stdout",
          "output_type": "stream",
          "text": [
            "Original Image:\n",
            "[115, 103, 215, 202, 110, 69, 204, 38]\n",
            "[60, 102, 83, 167, 184, 147, 107, 218]\n",
            "[35, 153, 69, 145, 113, 138, 70, 35]\n",
            "[194, 140, 57, 252, 112, 156, 1, 102]\n",
            "[21, 222, 116, 189, 35, 203, 204, 53]\n",
            "[40, 71, 17, 226, 59, 77, 113, 183]\n",
            "[30, 252, 135, 12, 22, 1, 233, 139]\n",
            "[7, 20, 146, 214, 37, 215, 224, 38]\n",
            "\n",
            "Huffman Codebook:\n",
            "{35: '0000', 103: '000100', 22: '000101', 215: '00011', 69: '00100', 21: '001010', 115: '001011', 189: '001100', 218: '001101', 1: '00111', 139: '010000', 7: '010001', 214: '010010', 224: '010011', 156: '010100', 147: '010101', 112: '010110', 184: '010111', 77: '011000', 59: '011001', 145: '011010', 60: '011011', 20: '011100', 140: '011101', 102: '01111', 222: '100000', 107: '100001', 252: '10001', 38: '10010', 40: '100110', 153: '100111', 70: '101000', 135: '101001', 113: '10101', 53: '101100', 203: '101101', 202: '101110', 226: '101111', 233: '110000', 194: '110001', 30: '110010', 138: '110011', 167: '110100', 37: '110101', 146: '110110', 57: '110111', 12: '111000', 183: '111001', 83: '111010', 110: '111011', 17: '111100', 71: '111101', 116: '111110', 204: '111111'}\n",
            "\n",
            "Encoded Data:\n",
            "0010110001000001110111011101100100111111100100110110111111101011010001011101010110000100110100001001110010001101010101110011101000000011000101110111011110001010110010100001110111100101010000011111000110000001011011111111011001001101111011111001011110110010110001010111100111001010001101001111000000101001111100000100000100010111001101100100101101010001101001110010\n",
            "\n",
            "Decoded Image:\n",
            "[115, 103, 215, 202, 110, 69, 204, 38]\n",
            "[60, 102, 83, 167, 184, 147, 107, 218]\n",
            "[35, 153, 69, 145, 113, 138, 70, 35]\n",
            "[194, 140, 57, 252, 112, 156, 1, 102]\n",
            "[21, 222, 116, 189, 35, 203, 204, 53]\n",
            "[40, 71, 17, 226, 59, 77, 113, 183]\n",
            "[30, 252, 135, 12, 22, 1, 233, 139]\n",
            "[7, 20, 146, 214, 37, 215, 224, 38]\n"
          ]
        }
      ],
      "source": [
        "import heapq\n",
        "import collections\n",
        "\n",
        "class Node:\n",
        "    def __init__(self, symbol, frequency):\n",
        "        self.symbol = symbol\n",
        "        self.frequency = frequency\n",
        "        self.left = None\n",
        "        self.right = None\n",
        "\n",
        "    def __lt__(self, other):\n",
        "        return self.frequency < other.frequency\n",
        "\n",
        "def build_huffman_tree(frequencies):\n",
        "    heap = [Node(sym, freq) for sym, freq in frequencies.items()]\n",
        "    heapq.heapify(heap)\n",
        "\n",
        "    while len(heap) > 1:\n",
        "        left = heapq.heappop(heap)\n",
        "        right = heapq.heappop(heap)\n",
        "        parent = Node(None, left.frequency + right.frequency)\n",
        "        parent.left = left\n",
        "        parent.right = right\n",
        "        heapq.heappush(heap, parent)\n",
        "\n",
        "    return heap[0]\n",
        "\n",
        "def build_huffman_codebook(node, prefix=\"\", codebook=None):\n",
        "    if codebook is None:\n",
        "        codebook = {}\n",
        "    if node is not None:\n",
        "        if node.symbol is not None:\n",
        "            codebook[node.symbol] = prefix\n",
        "        build_huffman_codebook(node.left, prefix + \"0\", codebook)\n",
        "        build_huffman_codebook(node.right, prefix + \"1\", codebook)\n",
        "    return codebook\n",
        "\n",
        "def huffman_encode(image, codebook):\n",
        "    encoded_data = \"\"\n",
        "    for row in image:\n",
        "        for pixel in row:\n",
        "            encoded_data += codebook[pixel]\n",
        "    return encoded_data\n",
        "\n",
        "def huffman_decode(encoded_data, huffman_tree):\n",
        "    decoded_image = []\n",
        "    current_node = huffman_tree\n",
        "    for bit in encoded_data:\n",
        "        if bit == '0':\n",
        "            current_node = current_node.left\n",
        "        else:\n",
        "            current_node = current_node.right\n",
        "        if current_node.symbol is not None:\n",
        "            decoded_image.append(current_node.symbol)\n",
        "            current_node = huffman_tree\n",
        "    return decoded_image\n",
        "\n",
        "# Creating a random 8x8 image with pixel intensities (symbols)\n",
        "import random\n",
        "\n",
        "symbols = [random.randint(0, 255) for _ in range(64)]\n",
        "image = [symbols[i:i+8] for i in range(0, 64, 8)]\n",
        "\n",
        "# Calculate symbol frequencies\n",
        "symbol_frequencies = collections.Counter(symbols)\n",
        "\n",
        "# Build Huffman tree and codebook\n",
        "huffman_tree = build_huffman_tree(symbol_frequencies)\n",
        "huffman_codebook = build_huffman_codebook(huffman_tree)\n",
        "\n",
        "# Encode the image\n",
        "encoded_data = huffman_encode(image, huffman_codebook)\n",
        "\n",
        "# Decode the encoded data\n",
        "decoded_image = huffman_decode(encoded_data, huffman_tree)\n",
        "\n",
        "# Ensure the decoded image matches the original image\n",
        "assert decoded_image == symbols\n",
        "\n",
        "# Print the results\n",
        "print(\"Original Image:\")\n",
        "for row in image:\n",
        "    print(row)\n",
        "print(\"\\nHuffman Codebook:\")\n",
        "print(huffman_codebook)\n",
        "print(\"\\nEncoded Data:\")\n",
        "print(encoded_data)\n",
        "print(\"\\nDecoded Image:\")\n",
        "decoded_image_2d = [decoded_image[i:i+8] for i in range(0, 64, 8)]\n",
        "for row in decoded_image_2d:\n",
        "    print(row)"
      ]
    },
    {
      "cell_type": "code",
      "execution_count": 27,
      "metadata": {
        "colab": {
          "base_uri": "https://localhost:8080/",
          "height": 1000
        },
        "id": "0_ZzTg0wtOTS",
        "outputId": "e6c7f359-bb23-4180-c221-54e372310bfc"
      },
      "outputs": [
        {
          "data": {
            "image/png": "[encoded data removed]",
            "text/plain": [
              "<Figure size 640x480 with 1 Axes>"
            ]
          },
          "metadata": {},
          "output_type": "display_data"
        },
        {
          "name": "stdout",
          "output_type": "stream",
          "text": [
            "Tamaño de Imagen Original: 37 bytes\n",
            "\n",
            "Encoded Data:\n",
            "0010110001000001110111011101100100111111100100110110111111101011010001011101010110000100110100001001110010001101010101110011101000000011000101110111011110001010110010100001110111100101010000011111000110000001011011111111011001001101111011111001011110110010110001010111100111001010001101001111000000101001111100000100000100010111001101100100101101010001101001110010\n",
            "\n",
            "TAMAÑO Encoded Data ->   46\n",
            "\n",
            "\n",
            "\n",
            "\n",
            "\n",
            "\n"
          ]
        },
        {
          "data": {
            "image/png": "[encoded data removed]",
            "text/plain": [
              "<Figure size 640x480 with 1 Axes>"
            ]
          },
          "metadata": {},
          "output_type": "display_data"
        },
        {
          "name": "stdout",
          "output_type": "stream",
          "text": [
            "Tamaño de Imagen Decodificada: 37 bytes\n",
            "Relación de Compresión: 0.46\n"
          ]
        }
      ],
      "source": [
        "import matplotlib.pyplot as plt\n",
        "\n",
        "\n",
        "def get_bytes_size(data):\n",
        "    return (len(data) + 7) // 8\n",
        "\n",
        "def display_image_info(image, title):\n",
        "    plt.imshow(image, cmap='gray')\n",
        "    plt.title(title)\n",
        "    plt.show()\n",
        "    data_str = ''.join(map(str, image))\n",
        "    data_size = get_bytes_size(data_str)\n",
        "    print(f\"Tamaño de {title}: {data_size} bytes\")\n",
        "\n",
        "image = [symbols[i:i+8] for i in range(0, 64, 8)]\n",
        "display_image_info(image, \"Imagen Original\")\n",
        "\n",
        "encoded_data = huffman_encode(image, huffman_codebook)\n",
        "\n",
        "print(\"\\nEncoded Data:\")\n",
        "print(encoded_data)\n",
        "\n",
        "\n",
        "print(\"\\nTAMAÑO Encoded Data ->  \",get_bytes_size(encoded_data))\n",
        "\n",
        "print(\"\\n\")\n",
        "print(\"\\n\")\n",
        "print(\"\\n\")\n",
        "\n",
        "decoded_image_2d = [decoded_image[i:i+8] for i in range(0, 64, 8)]\n",
        "display_image_info(decoded_image_2d, \"Imagen Decodificada\")\n",
        "\n",
        "original_size = get_bytes_size(''.join(map(str, symbols)))\n",
        "compressed_size = get_bytes_size(encoded_data)\n",
        "compression_ratio = original_size / compressed_size\n",
        "\n",
        "print(f\"Relación de Compresión: {compression_ratio:.2f}\")"
      ]
    }
  ],
  "metadata": {
    "colab": {
      "provenance": []
    },
    "kernelspec": {
      "display_name": "Python 3",
      "name": "python3"
    },
    "language_info": {
      "name": "python",
      "version": "3.11.5"
    }
  },
  "nbformat": 4,
  "nbformat_minor": 0
}
