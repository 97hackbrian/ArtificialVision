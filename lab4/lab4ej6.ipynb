{
 "cells": [
  {
   "cell_type": "markdown",
   "metadata": {},
   "source": [
    "## **Exercise 6:** EDA 3\n",
    "\n",
    "\n",
    "The datasets explored up to this point were oriented towards the task of classification and object detection (with categories and/or bounding boxes defined by two pairs of coordinates that frame an object). However, tasks such as semantic segmentation and instance segmentation require working with pixel-level information. Consequently, these datasets include a mask per image. Other times, you find a unique json file with segments defined as polygons.\n",
    "\n",
    "\n",
    "In this exercise you will have to work with the dataset [⚽ Football Player Segmentation ⚽](https://www.kaggle.com/datasets/ihelon/football-player-segmentation), which contains a json file `instances_default.json`. This must be read with the `json` or `ujson` library and its content must be registered in one or more dataframes, with which the following information can be obtained:\n",
    "\n",
    "1. Maximum and minimum number of players in an image. Show the respective images.\n",
    "2. Number of categories and their frequency in the dataset\n",
    "3. Dimensions (width and height) present in the dataset\n",
    "4. A function to randomly display an image with the players marked with a different color."
   ]
  }
 ],
 "metadata": {
  "language_info": {
   "name": "python"
  }
 },
 "nbformat": 4,
 "nbformat_minor": 2
}
